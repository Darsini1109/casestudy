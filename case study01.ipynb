{
 "cells": [
  {
   "cell_type": "code",
   "execution_count": 1,
   "id": "de111fbd",
   "metadata": {},
   "outputs": [
    {
     "name": "stdout",
     "output_type": "stream",
     "text": [
      "Enter your score: 50\n",
      "C\n"
     ]
    }
   ],
   "source": [
    "#1. A school has following rules for grading system:\n",
    "#Ask user to enter marks and print the corresponding grade\n",
    "\n",
    "score = input(\"Enter your score: \")\n",
    "\n",
    "score = int(score)\n",
    "\n",
    "if score < 25:  \n",
    "   print(\"F\")\n",
    "\n",
    "elif score >= 25 and score < 45:  \n",
    "   print(\"E\")\n",
    "\n",
    "elif score >= 45 and score < 50:  \n",
    "   print(\"D\")\n",
    "\n",
    "elif score >= 50 and score < 60:  \n",
    "   print(\"C\")\n",
    "\n",
    "elif score >= 60 and score < 80:  \n",
    "   print(\"B\")\n",
    "\n",
    "else:  \n",
    "   print(\"A\")"
   ]
  },
  {
   "cell_type": "code",
   "execution_count": 1,
   "id": "e18ac269",
   "metadata": {},
   "outputs": [
    {
     "name": "stdout",
     "output_type": "stream",
     "text": [
      "enter the length of the figure7\n",
      "enter the breadth of the figure6\n",
      "the figure is not a square\n"
     ]
    }
   ],
   "source": [
    "# 3,Take values of length and breadth of a rectangle from user and check whether square or not if\n",
    "\n",
    "a=int(input(\"enter the length of the figure\"))\n",
    "\n",
    "b=int(input(\"enter the breadth of the figure\"))\n",
    "\n",
    "if a==b:\n",
    "\n",
    "  print(\"the figure is a square\")\n",
    "\n",
    "else:\n",
    "\n",
    "  print(\"the figure is not a square\")"
   ]
  },
  {
   "cell_type": "code",
   "execution_count": 1,
   "id": "249a5232",
   "metadata": {},
   "outputs": [
    {
     "name": "stdout",
     "output_type": "stream",
     "text": [
      "How many times generate fibinocci series:7\n",
      "Fibonacci numbers upto 7 :\n",
      "0\n",
      "1\n",
      "1\n",
      "2\n",
      "3\n",
      "5\n",
      "8\n"
     ]
    }
   ],
   "source": [
    "# 10, Write a Python program to print Fibonacci series in a given range. Get the range from user and print prime numbers in that range.\n",
    "n=int(input(\"How many times generate fibinocci series:\"))\n",
    "n1=0\n",
    "n2=1\n",
    "count=0\n",
    "if(n<=0):\n",
    "        print(\"Enter a positive number\")\n",
    "elif n==1:\n",
    "        print(\"Fibonnacci numbers upto\",n,\":\",n1)\n",
    "else:\n",
    "        print(\"Fibonacci numbers upto\",n,\":\")\n",
    "        while count<n: \n",
    "                print(n1)\n",
    "                f=n1+n2\n",
    "                n1=n2\n",
    "                n2=f\n",
    "                count=count+1\n",
    "\n",
    "\n"
   ]
  },
  {
   "cell_type": "code",
   "execution_count": 2,
   "id": "1b6dcd32",
   "metadata": {},
   "outputs": [
    {
     "name": "stdout",
     "output_type": "stream",
     "text": [
      "enter a number: 7\n",
      "2\n",
      "3\n",
      "5\n",
      "7\n"
     ]
    }
   ],
   "source": [
    "# 9,Write a Python program to find the prime numbers in a given range. Get the range from user and print prime numbers in that range.\n",
    "number = int(input(\"enter a number: \"))\n",
    "\n",
    "for n in range(2, number + 1):\n",
    "    for i in range(2, number // 2):\n",
    "        if n == 2:\n",
    "            print(n)\n",
    "        elif n % i == 0:\n",
    "            break\n",
    "        else:\n",
    "            print(n)"
   ]
  },
  {
   "cell_type": "code",
   "execution_count": 4,
   "id": "cd7351ef",
   "metadata": {
    "scrolled": true
   },
   "outputs": [
    {
     "name": "stdout",
     "output_type": "stream",
     "text": [
      "Current number 0 Previous Number 0 is 0\n",
      "Current number 1 Previous Number 0 is 1\n",
      "Current number 2 Previous Number 1 is 3\n",
      "Current number 3 Previous Number 2 is 5\n",
      "Current number 4 Previous Number 3 is 7\n",
      "Current number 5 Previous Number 4 is 9\n",
      "Current number 6 Previous Number 5 is 11\n",
      "Current number 7 Previous Number 6 is 13\n",
      "Current number 8 Previous Number 7 is 15\n",
      "Current number 9 Previous Number 8 is 17\n",
      "Current number 10 Previous Number 9 is 19\n"
     ]
    }
   ],
   "source": [
    "# 8,Given a range of first 10 numbers, write a Python program to iterate from start number to the end number and print the sum of the current number and previous number. \n",
    "\n",
    "previous_num = 0\n",
    "for i in range(11):\n",
    "    sum = previous_num + i\n",
    "    print(f'Current number {i} Previous Number {previous_num} is {sum}')\n",
    "    previous_num = i\n"
   ]
  },
  {
   "cell_type": "code",
   "execution_count": 3,
   "id": "b2e9099d",
   "metadata": {},
   "outputs": [
    {
     "name": "stdout",
     "output_type": "stream",
     "text": [
      "General Form: ax**2+bx+c=0\n",
      "enter a(a! = 0):6\n",
      "enter b:7\n",
      "enter c:1\n",
      "\n",
      "\n",
      "final results for equation, (ax**2)+(bX)+(c)=0, are : \n",
      "\n",
      "type of roots: two distinct real roots\n",
      "final The solution are (sol1) and (sol2)\n"
     ]
    }
   ],
   "source": [
    "# 7,Write a program to find the roots of a quadratic equation. Get the coefficients of quadratic equation ax^2+bx+c and display whether the rootsare real and equal or real and distinct or roots are imaginary. You have tofind the roots and display it as well. \n",
    "import cmath\n",
    "print('General Form: ax**2+bx+c=0')\n",
    "\n",
    "a = int(input(\"enter a(a! = 0):\"))\n",
    "b = int(input(\"enter b:\"))\n",
    "c = int(input(\"enter c:\"))\n",
    "d = (b**2)-(4*a*c)\n",
    "\n",
    "sol1 = (-b-cmath.sqrt(d))/(2*a)\n",
    "sol2 = (-b+cmath.sqrt(d))/(2*a)\n",
    "\n",
    "print(\"\\n\")\n",
    "print(\"final results for equation, (ax**2)+(bX)+(c)=0, are : \\n\")\n",
    "if d>0:\n",
    "    print(\"type of roots: two distinct real roots\")\n",
    "elif d==0:\n",
    "    print(\"type of roots: two equal real roots\")\n",
    "elif d<0:\n",
    "    print(\"type of roots: two complex roots\")\n",
    "\n",
    "print(\"final The solution are (sol1) and (sol2)\")"
   ]
  },
  {
   "cell_type": "code",
   "execution_count": null,
   "id": "541c74a3",
   "metadata": {},
   "outputs": [],
   "source": [
    "#6,Create a sample chatbot for an ecommerce website\n",
    "\n",
    "print('Welcome to Shoppers shop')\n",
    "\n",
    "while True:\n",
    "    x = input('Enter Quit to stop')\n",
    "    x=x.lower()\n",
    "    if x =='quit':\n",
    "        print('See you later!')\n",
    "        break\n",
    "    y=x.split()\n",
    "    if len(y)==0:\n",
    "        print('Please give a valid input')\n",
    "    elif 'morning' in y:\n",
    "        print('Good morning')\n",
    "    elif 'course' in y:\n",
    "        print('Please vist wwww.shoppers shop.org for more details')\n",
    "    elif 'python' in y:\n",
    "        print('Yes we have a Python course, Please visit wwww.shoppers shop.org for more deails')\n",
    "    else:\n",
    "        print('Please use another option')\n"
   ]
  },
  {
   "cell_type": "code",
   "execution_count": null,
   "id": "a637064e",
   "metadata": {},
   "outputs": [
    {
     "name": "stdout",
     "output_type": "stream",
     "text": [
      "Welcome to W3SCHOOLS\n"
     ]
    }
   ],
   "source": [
    "#6,Create a sample chatbot for an ecommerce website\n",
    "\n",
    "print('Welcome to W3SCHOOLS')\n",
    "\n",
    "while True:\n",
    "    x = input('Enter Quit to stop')\n",
    "    x=x.lower()\n",
    "    if x =='quit':\n",
    "        print('See you later!')\n",
    "        break\n",
    "    y=x.split()\n",
    "    if len(y)==0:\n",
    "        print('Please give a valid input')\n",
    "    elif 'morning' in y:\n",
    "        print('Good morning')\n",
    "    elif 'course' in y:\n",
    "        print('Please vist wwww.w3schools.org for more details')\n",
    "    elif 'python' in y:\n",
    "        print('Yes we have a Python course, Please visit wwww.w3schools.org for more deails')\n",
    "    else:\n",
    "        print('Please use another option')\n"
   ]
  },
  {
   "cell_type": "code",
   "execution_count": 4,
   "id": "27e31ff6",
   "metadata": {},
   "outputs": [
    {
     "name": "stdout",
     "output_type": "stream",
     "text": [
      "The first non-repeating character is J\n"
     ]
    }
   ],
   "source": [
    "# 2,You have a list of names. Create a new list which contains only the names with non-repeating characters. \n",
    "str = \"John, Peter, Meera, Mini, Krishna\"\n",
    "char_count = {}\n",
    "for char in str:\n",
    "    if char not in char_count:\n",
    "        char_count[char] = 1\n",
    "    else:\n",
    "        char_count[char] += 1\n",
    "\n",
    "for char in str:\n",
    "    if char_count[char] == 1:\n",
    "        print(\"The first non-repeating character is\", char)\n",
    "        break\n",
    "else:\n",
    "    print(\"Either all characters are repeating or the string is empty.\")"
   ]
  },
  {
   "cell_type": "code",
   "execution_count": 1,
   "id": "94e473de",
   "metadata": {},
   "outputs": [
    {
     "name": "stdout",
     "output_type": "stream",
     "text": [
      "Even numbers in the list:  [2, 4]\n"
     ]
    }
   ],
   "source": [
    "# 5,Create a list by taking length of the list and elements of the list from user.Then find the sum of the elements of the list. Also create a new called even list which contains only even numbers from first list and odd list which contains odd numbers from the list.\n",
    "\n",
    "numbers = [1, 2, 3, 4, 5]\n",
    "even_nos = [num for num in numbers if num % 2 == 0] \n",
    "print(\"Even numbers in the list: \", even_nos)"
   ]
  },
  {
   "cell_type": "code",
   "execution_count": 6,
   "id": "de79b5b3",
   "metadata": {},
   "outputs": [
    {
     "name": "stdout",
     "output_type": "stream",
     "text": [
      "56\n",
      "76\n",
      "Attandance is 135.71428571428572\n",
      "Allowed to sit in Exam\n"
     ]
    }
   ],
   "source": [
    "#4, A student will not be allowed to sit in exam if his/her attendance is less than 75%. Take following input from user Number of classes held Number of classes attended. And print percentage of class attended Is student is allowed to sit in exam or not\n",
    "\n",
    "cls_held = int(input())\n",
    "\n",
    "cls_att = int(input())    \n",
    "\n",
    "\n",
    "\n",
    "attended = (cls_att/cls_held) * 100\n",
    "\n",
    "#printing the percentage of classes attended\n",
    "\n",
    "print(\"Attandance is\",attended)\n",
    "\n",
    "#checking whether attandance is greater than 75 and printing the same\n",
    "\n",
    "if attended>75:\n",
    "\n",
    "   print(\"Allowed to sit in Exam\")\n",
    "\n",
    "else:\n",
    "\n",
    "   print(\"Not allowed to sit in Exam\")"
   ]
  },
  {
   "cell_type": "code",
   "execution_count": null,
   "id": "1b9c49ce",
   "metadata": {},
   "outputs": [],
   "source": []
  }
 ],
 "metadata": {
  "kernelspec": {
   "display_name": "Python 3 (ipykernel)",
   "language": "python",
   "name": "python3"
  },
  "language_info": {
   "codemirror_mode": {
    "name": "ipython",
    "version": 3
   },
   "file_extension": ".py",
   "mimetype": "text/x-python",
   "name": "python",
   "nbconvert_exporter": "python",
   "pygments_lexer": "ipython3",
   "version": "3.9.7"
  }
 },
 "nbformat": 4,
 "nbformat_minor": 5
}
